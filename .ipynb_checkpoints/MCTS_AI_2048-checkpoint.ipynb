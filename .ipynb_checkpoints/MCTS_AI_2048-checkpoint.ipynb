{
 "cells": [
  {
   "cell_type": "markdown",
   "id": "aa772d77",
   "metadata": {
    "id": "aa772d77"
   },
   "source": [
    "# Monte-Carlo Tree Search based Artificial Intelligence to play 2048"
   ]
  },
  {
   "cell_type": "markdown",
   "id": "976171ae",
   "metadata": {
    "id": "976171ae"
   },
   "source": [
    "Matheus Schmitz<br>\n",
    "<a href=\"https://www.linkedin.com/in/matheusschmitz/\">LinkedIn</a><br>\n",
    "<a href=\"https://matheus-schmitz.github.io/\">Github Portfolio</a>"
   ]
  },
  {
   "cell_type": "code",
   "execution_count": 1,
   "id": "IFdHBmFfcLWM",
   "metadata": {
    "colab": {
     "base_uri": "https://localhost:8080/"
    },
    "id": "IFdHBmFfcLWM",
    "outputId": "0683ac43-8c78-478c-e9f5-a9b01a0038b5"
   },
   "outputs": [
    {
     "name": "stdout",
     "output_type": "stream",
     "text": [
      "Mounted at /content/drive\n"
     ]
    }
   ],
   "source": [
    "# File manipulation imports for Google Colab\n",
    "from google.colab import drive\n",
    "drive.mount('/content/drive')\n",
    "import os\n",
    "os.chdir(\"/content/drive/My Drive/Colab Notebooks/MCTS_AI_2048/\")"
   ]
  },
  {
   "cell_type": "markdown",
   "id": "15ef4034",
   "metadata": {
    "id": "15ef4034"
   },
   "source": [
    "## Imports"
   ]
  },
  {
   "cell_type": "code",
   "execution_count": 2,
   "id": "611b1b54",
   "metadata": {
    "id": "611b1b54"
   },
   "outputs": [],
   "source": [
    "import random\n",
    "import copy\n",
    "import numpy as np\n",
    "import time"
   ]
  },
  {
   "cell_type": "markdown",
   "id": "ffced4f9",
   "metadata": {
    "id": "ffced4f9"
   },
   "source": [
    "## Board"
   ]
  },
  {
   "cell_type": "code",
   "execution_count": 3,
   "id": "1da1c0c8",
   "metadata": {
    "id": "1da1c0c8"
   },
   "outputs": [],
   "source": [
    "class Board:\n",
    "    \n",
    "    def __init__(self):\n",
    "        self.size = 4\n",
    "        self.start_tiles = 2\n",
    "        self.score = 0\n",
    "        self.victory = False\n",
    "        self.defeat = False\n",
    "        self.directions = ['left', 'right', 'up', 'down']\n",
    "        \n",
    "        # Initialize the board\n",
    "        self.board_state = np.zeros((self.size, self.size), dtype=int)\n",
    "        [self.add_new_tile(value=2) for _ in range(self.start_tiles)]\n",
    "        \n",
    "    # Add a value to the board in one of the empty spaces\n",
    "    def add_new_tile(self, value=None):\n",
    "        row_num = random.randrange(0, self.size)\n",
    "        col_num = random.randrange(0, self.size)\n",
    "\n",
    "        # Pick spots until we find one that is empty\n",
    "        while not self.board_state[row_num][col_num] == 0:\n",
    "            row_num = random.randrange(0, self.size)\n",
    "            col_num = random.randrange(0, self.size)\n",
    "\n",
    "        # Fill the empty spot with a new value\n",
    "        if value is None:\n",
    "            self.board_state[row_num][col_num] = self.generate_random_value()\n",
    "        else:\n",
    "            self.board_state[row_num][col_num] = value\n",
    "        \n",
    "    # Pick a new value to add to the board\n",
    "    @staticmethod\n",
    "    def generate_random_value():\n",
    "        rand_int = random.randint(1,10)\n",
    "        value_to_add = 2\n",
    "        if rand_int > 9:\n",
    "            value_to_add = 4\n",
    "        return value_to_add\n",
    "    \n",
    "    def merge_left(self):\n",
    "        initial_board = copy.deepcopy(self)\n",
    "        \n",
    "        # On each row push all values left\n",
    "        for row_idx in range(self.size):\n",
    "            non_zeros = [x for x in self.board_state[row_idx] if x !=0]\n",
    "            while len(non_zeros) < 4:\n",
    "                non_zeros.append(0)\n",
    "            self.board_state[row_idx] = np.array(non_zeros)\n",
    "            \n",
    "        # Merge matching values\n",
    "        for row_idx in range(self.size):\n",
    "            for col_idx in range(self.size - 1):\n",
    "                if self.board_state[row_idx][col_idx] == self.board_state[row_idx][col_idx + 1]:\n",
    "                    self.board_state[row_idx][col_idx] *= 2\n",
    "                    self.board_state[row_idx][col_idx + 1] = 0\n",
    "                    # Update score\n",
    "                    self.score += self.board_state[row_idx][col_idx]\n",
    "                    \n",
    "        # On each row push all values left (need to repeat because of the merges)\n",
    "        for row_idx in range(self.size):\n",
    "            non_zeros = [x for x in self.board_state[row_idx] if x !=0]\n",
    "            while len(non_zeros) < 4:\n",
    "                non_zeros.append(0)\n",
    "            self.board_state[row_idx] = np.array(non_zeros)\n",
    "        \n",
    "        # If the move did something (changed the board) add a new tile\n",
    "        if not np.array_equal(self.board_state, initial_board.board_state):\n",
    "            self.add_new_tile()\n",
    "\n",
    "    def reverse_rows(self):\n",
    "        self.board_state = self.board_state[:,::-1]\n",
    "        \n",
    "    def transpose_board(self):\n",
    "        self.board_state = self.board_state.transpose()\n",
    "    \n",
    "    def merge_right(self):\n",
    "        self.reverse_rows()\n",
    "        self.merge_left()\n",
    "        self.reverse_rows()\n",
    "        \n",
    "    def merge_up(self):\n",
    "        self.transpose_board()\n",
    "        self.merge_left()\n",
    "        self.transpose_board()\n",
    "        \n",
    "    def merge_down(self):\n",
    "        self.transpose_board()\n",
    "        self.merge_right()\n",
    "        self.transpose_board()\n",
    "        \n",
    "    def check_victory(self):\n",
    "        if 2048 in self.board_state:\n",
    "            self.victory = True\n",
    "    \n",
    "    def has_moves(self):\n",
    "        # Can move left?\n",
    "        initial_board = copy.deepcopy(self)\n",
    "        initial_board.merge_left()\n",
    "        if not np.array_equal(self.board_state, initial_board.board_state):\n",
    "            return True\n",
    "        \n",
    "        # Can move right?\n",
    "        initial_board = copy.deepcopy(self)\n",
    "        initial_board.merge_right()\n",
    "        if not np.array_equal(self.board_state, initial_board.board_state):\n",
    "            return True\n",
    "\n",
    "        # Can move up?\n",
    "        initial_board = copy.deepcopy(self)\n",
    "        initial_board.merge_up()\n",
    "        if not np.array_equal(self.board_state, initial_board.board_state):\n",
    "            return True\n",
    "        \n",
    "        # Can move down?\n",
    "        initial_board = copy.deepcopy(self)\n",
    "        initial_board.merge_down()\n",
    "        if not np.array_equal(self.board_state, initial_board.board_state):\n",
    "            return True\n",
    "        \n",
    "        return False\n",
    "    \n",
    "    def check_defeat(self):\n",
    "        if not self.has_moves():\n",
    "            self.defeat = True\n",
    "    \n",
    "    def winner_screen(self):\n",
    "        print(\"###########\")\n",
    "        print(\"  YOU WON  \")\n",
    "        print(\"###########\")\n",
    "        print()\n",
    "        print(f\"Final Score: {self.score} | Max Tile: {self.board_state.max()}\")\n",
    "        print()\n",
    "        print(self.board_state)\n",
    "        print()\n",
    "        \n",
    "    def loser_screen(self):\n",
    "        print(\"############\")\n",
    "        print(\"  YOU LOST \")\n",
    "        print(\"############\")\n",
    "        print()\n",
    "        print(f\"Final Score: {self.score} | Max Tile: {self.board_state.max()}\")\n",
    "        print()\n",
    "        print(self.board_state)  \n",
    "        print()"
   ]
  },
  {
   "cell_type": "markdown",
   "id": "bc863839",
   "metadata": {
    "id": "bc863839"
   },
   "source": [
    "## Game"
   ]
  },
  {
   "cell_type": "code",
   "execution_count": 4,
   "id": "752fe52f",
   "metadata": {
    "id": "752fe52f"
   },
   "outputs": [],
   "source": [
    "class Game:\n",
    "    \n",
    "    def __init__(self):\n",
    "        self.board = Board()\n",
    "    \n",
    "    def move(self, direction, update_status=True):\n",
    "        # Make designated move\n",
    "        if direction == 'left':\n",
    "            self.board.merge_left()\n",
    "            \n",
    "        elif direction == 'right':\n",
    "            self.board.merge_right()\n",
    "            \n",
    "        elif direction == 'up':\n",
    "            self.board.merge_up()\n",
    "            \n",
    "        elif direction == 'down':\n",
    "            self.board.merge_down()\n",
    "\n",
    "        else:\n",
    "            print(\"Invalid move. Choose ['left', 'right', 'up', 'down']\")\n",
    "            print()\n",
    "           \n",
    "        \n",
    "        self.board.check_victory()\n",
    "        self.board.check_defeat()\n",
    "        \n",
    "        if update_status:\n",
    "            print(f\"Current Score: {self.board.score} | Max Tile: {self.board.board_state.max()}\")\n",
    "            print(self.board.board_state)\n",
    "            print()\n",
    "                \n",
    "            # Check for end of game  \n",
    "            if self.board.victory:\n",
    "                self.board.winner_screen()\n",
    "            elif self.board.defeat:\n",
    "                self.board.loser_screen()\n",
    "            \n",
    "    def play_randomly(self):\n",
    "        while True:\n",
    "            direction = random.choice(self.board.directions)\n",
    "            self.move(direction, update_status=False)\n",
    "            #if self.board.victory or self.board.defeat:\n",
    "            if self.board.defeat:    \n",
    "                return self.board.score"
   ]
  },
  {
   "cell_type": "markdown",
   "id": "a55ad2c2",
   "metadata": {
    "id": "a55ad2c2"
   },
   "source": [
    "## Monte Carlo Tree Search"
   ]
  },
  {
   "cell_type": "code",
   "execution_count": 5,
   "id": "a749df01",
   "metadata": {
    "id": "a749df01"
   },
   "outputs": [],
   "source": [
    "def monte_carlo_tree_search(game, num_iterations):\n",
    "    overall_scores = list()\n",
    "    for direction in game.board.directions:\n",
    "        direction_score = 0\n",
    "        for _ in range(num_iterations):\n",
    "            simulation = copy.deepcopy(game)\n",
    "            simulation.move(direction, update_status=False)\n",
    "            simulation_score = simulation.play_randomly()\n",
    "            direction_score += simulation_score\n",
    "        overall_scores.append(direction_score)\n",
    "    return overall_scores"
   ]
  },
  {
   "cell_type": "markdown",
   "id": "dd9a8eec",
   "metadata": {
    "id": "dd9a8eec"
   },
   "source": [
    "## Generate Training Data for NN"
   ]
  },
  {
   "cell_type": "code",
   "execution_count": 7,
   "id": "fd1fd9dd",
   "metadata": {
    "id": "fd1fd9dd"
   },
   "outputs": [],
   "source": [
    "import glob\n",
    "import pandas as pd"
   ]
  },
  {
   "cell_type": "code",
   "execution_count": null,
   "id": "acb3ad74",
   "metadata": {
    "colab": {
     "base_uri": "https://localhost:8080/",
     "height": 380
    },
    "id": "acb3ad74",
    "outputId": "27852fb0-8806-481c-cc12-932714ae0f22",
    "scrolled": true
   },
   "outputs": [],
   "source": [
    "# Generate training data ad-infinitum\n",
    "while True:\n",
    "    \n",
    "    # Initialize a game and define its number\n",
    "    game = Game()\n",
    "    game_number = len(glob.glob(\"./simulated_games/*.csv\"))+1\n",
    "\n",
    "    # DataFrame to store all game steps\n",
    "    df = pd.DataFrame()\n",
    "\n",
    "    # Play the game with Monte Carlo Tree Search\n",
    "    while True:\n",
    "        \n",
    "        # Choose and execute the next move\n",
    "        move_scores = monte_carlo_tree_search(game, 25)\n",
    "        next_move_idx = np.argmax(move_scores)\n",
    "        next_move = game.board.directions[next_move_idx]\n",
    "        game.move(next_move, update_status=False)\n",
    "\n",
    "        # Save current board state\n",
    "        current_state = game.board.board_state.flatten().tolist()\n",
    "        current_state.append(game.board.score)\n",
    "        df = df.append([current_state])\n",
    "\n",
    "        # Check for end of game  \n",
    "        #if game.board.victory:\n",
    "        #    # Linear probability increase with each step [0,1] for victory\n",
    "        #    probas = np.linspace(start=10e-6, stop=1, num=df.shape[0])\n",
    "        #    df['probas'] = probas\n",
    "\n",
    "        #    # Save game history\n",
    "        #    df.to_csv(f\"simulated_games/game_{game_number}.csv\", index=False)\n",
    "        #    game_number += 1\n",
    "\n",
    "        #    # Print game-over screen\n",
    "        #    game.board.winner_screen()\n",
    "        #    break\n",
    "\n",
    "        if game.board.defeat:\n",
    "            # Linear probability increase with each step [0,-1] for defeat\n",
    "            #probas = np.linspace(start=10e-6, stop=-1, num=df.shape[0])\n",
    "            #df['probas'] = probas\n",
    "            #df['score'] = game.board.score\n",
    "\n",
    "            # Save game history\n",
    "            df.to_csv(f\"simulated_games/game_{game_number}.csv\", index=False)\n",
    "            game_number += 1\n",
    "            \n",
    "            # Print game-over screen\n",
    "            game.board.loser_screen()\n",
    "            break"
   ]
  },
  {
   "cell_type": "markdown",
   "id": "0cQSc-cWncWN",
   "metadata": {
    "id": "0cQSc-cWncWN"
   },
   "source": [
    "## Neural Network"
   ]
  },
  {
   "cell_type": "code",
   "execution_count": 8,
   "id": "Mvxt8zMaM8A5",
   "metadata": {
    "id": "Mvxt8zMaM8A5"
   },
   "outputs": [],
   "source": [
    "# Tensor Flow & Keras\n",
    "import tensorflow as tf\n",
    "from tensorflow.keras.models import Sequential\n",
    "from tensorflow.keras.layers import Dense, Conv2D, Flatten, MaxPool2D, Reshape, Softmax, Dropout, ZeroPadding2D, BatchNormalization\n",
    "from tensorflow.keras.callbacks import ModelCheckpoint, ReduceLROnPlateau, CSVLogger, EarlyStopping\n",
    "!pip install livelossplot --quiet\n",
    "from livelossplot import PlotLossesKeras\n",
    "\n",
    "# Feature Engineering\n",
    "from sklearn.preprocessing import MinMaxScaler\n",
    "\n",
    "# File manipulation\n",
    "import pandas as pd\n",
    "import numpy as np\n",
    "import glob\n",
    "import os\n",
    "import datetime\n",
    "\n",
    "# Auxilary\n",
    "from tqdm import tqdm\n",
    "import matplotlib.pyplot as plt\n",
    "import seaborn as sns\n",
    "%matplotlib inline"
   ]
  },
  {
   "cell_type": "markdown",
   "id": "FJ_XOiHynmg8",
   "metadata": {
    "id": "FJ_XOiHynmg8"
   },
   "source": [
    "### Load Simulations"
   ]
  },
  {
   "cell_type": "code",
   "execution_count": 9,
   "id": "qZ_5_VLVnip6",
   "metadata": {
    "id": "qZ_5_VLVnip6"
   },
   "outputs": [],
   "source": [
    "# Function to create number spacing based on their logs\n",
    "def logspace(start, stop, num):\n",
    "    return [np.exp(i) for i in np.linspace(np.log(start), np.log(stop), num=num)]"
   ]
  },
  {
   "cell_type": "code",
   "execution_count": 10,
   "id": "jGQOiI-PnsBH",
   "metadata": {
    "id": "jGQOiI-PnsBH"
   },
   "outputs": [],
   "source": [
    "def scale(value, max, min):\n",
    "    return (value-min)/(max-min)"
   ]
  },
  {
   "cell_type": "code",
   "execution_count": 11,
   "id": "Xt05BE9Xntr8",
   "metadata": {
    "id": "Xt05BE9Xntr8"
   },
   "outputs": [],
   "source": [
    "# Path to all simulated games\n",
    "simulated_games = glob.glob(\"./simulated_games/simulated_games_0/*.csv\")\n",
    "\n",
    "# Read as df\n",
    "game_dfs = (pd.read_csv(csv) for csv in simulated_games)\n",
    "\n",
    "# Set the target variable to be the probability of winning\n",
    "processed_dfs = []\n",
    "for df in game_dfs:\n",
    "    if (df.drop(columns='16') >= 2048).any().any():\n",
    "        df['16'] = logspace(1e-7, 1, df.shape[0])\n",
    "    else:\n",
    "        df['16'] = logspace(1e-7, 1, df.shape[0])\n",
    "        df['16'] = -df['16']\n",
    "    processed_dfs.append(df)\n",
    "\n",
    "# Concatenate into a single dataset\n",
    "df = pd.concat(processed_dfs)\n",
    "\n",
    "# Late game moves matter more, so give the probabilities an exponential curve\n",
    "#df['16'] = df['16'].apply(lambda x: x**2)\n",
    "\n",
    "# Split X (board encodings) and Y (win probability)\n",
    "X = df.drop(columns = '16')\n",
    "#y = df['16'].apply(scale, max=df['16'].max(), min=df['16'].min())\n",
    "#X = df.apply(get_board_state, axis=1)\n",
    "y = df['16']"
   ]
  },
  {
   "cell_type": "code",
   "execution_count": 12,
   "id": "gHfRB760nyxy",
   "metadata": {
    "colab": {
     "base_uri": "https://localhost:8080/",
     "height": 334
    },
    "id": "gHfRB760nyxy",
    "outputId": "919abadc-b1f6-47b9-ce8e-28617c8d22b8"
   },
   "outputs": [
    {
     "data": {
      "image/png": "[encoded data removed]",
      "text/plain": [
       "<Figure size 720x360 with 1 Axes>"
      ]
     },
     "metadata": {
      "needs_background": "light"
     },
     "output_type": "display_data"
    }
   ],
   "source": [
    "fig, ax = plt.subplots(figsize=(10,5))\n",
    "sns.histplot(y)\n",
    "plt.show()"
   ]
  },
  {
   "cell_type": "code",
   "execution_count": 13,
   "id": "eZia3QCAn2CO",
   "metadata": {
    "colab": {
     "base_uri": "https://localhost:8080/"
    },
    "id": "eZia3QCAn2CO",
    "outputId": "0708381b-d452-415a-e963-ecebd2ffd77c"
   },
   "outputs": [
    {
     "name": "stderr",
     "output_type": "stream",
     "text": [
      "100%|██████████| 1652414/1652414 [06:12<00:00, 4434.24it/s]\n"
     ]
    }
   ],
   "source": [
    "# Convert the flattened board data into the input needed for the NN\n",
    "input_data = []\n",
    "for _, row in tqdm(X.iterrows(), total=X.shape[0]):\n",
    "    \n",
    "    # Input matrix for the data\n",
    "    input_matrix = np.zeros([13,4,4], dtype=int)\n",
    "    \n",
    "    # Parse through the row and populate the matrix\n",
    "    for idx, value in zip(row.index, row):\n",
    "        row_idx = int(idx) // 4\n",
    "        col_idx = int(idx) % 4\n",
    "\n",
    "        # Find the position on the 3D matrix to add the one-hot encoding representing the value\n",
    "        if value == 0:\n",
    "            #depth = 0\n",
    "            continue \n",
    "        else:\n",
    "            depth = int(np.log2(value)) - 1\n",
    "        \n",
    "        # Add the binary position to the matrix\n",
    "        input_matrix[depth][row_idx][col_idx] = 1\n",
    "    \n",
    "    # Once the 11x4x4 matrix is populated, add it to input_data\n",
    "    input_data.append(input_matrix)\n",
    "\n",
    "# Convert to numpy array\n",
    "input_data = np.array(input_data)"
   ]
  },
  {
   "cell_type": "code",
   "execution_count": 14,
   "id": "ziSdc6-Qn6Fn",
   "metadata": {
    "colab": {
     "base_uri": "https://localhost:8080/"
    },
    "id": "ziSdc6-Qn6Fn",
    "outputId": "ebb1d6c9-77df-406e-c6b6-e818463551be"
   },
   "outputs": [
    {
     "name": "stdout",
     "output_type": "stream",
     "text": [
      "Input shape before transposing: (1652414, 13, 4, 4)\n",
      "Input shape after transposing: (1652414, 4, 4, 13)\n"
     ]
    }
   ],
   "source": [
    "# TensorFlow expects the data format to be [sample, width, height, channels], convert the data to that format\n",
    "print(f\"Input shape before transposing: {input_data.shape}\")\n",
    "input_data = np.transpose(input_data, (0,2,3,1))\n",
    "print(f\"Input shape after transposing: {input_data.shape}\")"
   ]
  },
  {
   "cell_type": "markdown",
   "id": "I0F44mztn8A_",
   "metadata": {
    "id": "I0F44mztn8A_"
   },
   "source": [
    "### Train Convolutional Neural Network"
   ]
  },
  {
   "cell_type": "code",
   "execution_count": 15,
   "id": "gKFMmfvnn7my",
   "metadata": {
    "colab": {
     "base_uri": "https://localhost:8080/"
    },
    "id": "gKFMmfvnn7my",
    "outputId": "b4f8b1ee-02ff-478d-ce11-52fd9f5abc1e"
   },
   "outputs": [
    {
     "name": "stdout",
     "output_type": "stream",
     "text": [
      "Model: \"sequential\"\n",
      "_________________________________________________________________\n",
      " Layer (type)                Output Shape              Param #   \n",
      "=================================================================\n",
      " zero_padding2d (ZeroPadding  (None, 4, 4, 13)         0         \n",
      " 2D)                                                             \n",
      "                                                                 \n",
      " conv2d (Conv2D)             (None, 4, 4, 208)         2912      \n",
      "                                                                 \n",
      " dropout (Dropout)           (None, 4, 4, 208)         0         \n",
      "                                                                 \n",
      " conv2d_1 (Conv2D)           (None, 4, 4, 52)          10868     \n",
      "                                                                 \n",
      " conv2d_2 (Conv2D)           (None, 4, 4, 26)          1378      \n",
      "                                                                 \n",
      " flatten (Flatten)           (None, 416)               0         \n",
      "                                                                 \n",
      " dense (Dense)               (None, 13)                5421      \n",
      "                                                                 \n",
      " dropout_1 (Dropout)         (None, 13)                0         \n",
      "                                                                 \n",
      " dense_1 (Dense)             (None, 1)                 14        \n",
      "                                                                 \n",
      "=================================================================\n",
      "Total params: 20,593\n",
      "Trainable params: 20,593\n",
      "Non-trainable params: 0\n",
      "_________________________________________________________________\n"
     ]
    }
   ],
   "source": [
    "# CNN\n",
    "model = Sequential()\n",
    "model.add(ZeroPadding2D(padding=(0,0), input_shape=(4,4,13)))\n",
    "BatchNormalization()\n",
    "model.add(Conv2D((4*4*13), kernel_size=1, activation='relu', padding='same'))\n",
    "BatchNormalization()\n",
    "model.add(Dropout(0.25))\n",
    "model.add(Conv2D(4*4*13//4, kernel_size=1, activation='relu', padding='same'))\n",
    "BatchNormalization()\n",
    "model.add(Conv2D(4*4*13//8, kernel_size=1, activation='relu', padding='same'))\n",
    "BatchNormalization()\n",
    "model.add(Flatten())\n",
    "model.add(Dense(4*4*13//16))\n",
    "model.add(Dropout(0.25))\n",
    "model.add(Dense(1))\n",
    "\n",
    "# Compile the model\n",
    "model.compile(optimizer=tf.keras.optimizers.Adam(learning_rate=0.0001), \n",
    "              loss='mean_squared_error')\n",
    "\n",
    "# Model summary\n",
    "model.summary()"
   ]
  },
  {
   "cell_type": "code",
   "execution_count": 16,
   "id": "qhx04BHGoAM3",
   "metadata": {
    "colab": {
     "base_uri": "https://localhost:8080/"
    },
    "id": "qhx04BHGoAM3",
    "outputId": "3aacdf6c-1196-4dd4-c1ab-16603757bb09"
   },
   "outputs": [
    {
     "name": "stdout",
     "output_type": "stream",
     "text": [
      "Model: \"sequential\"\n",
      "_________________________________________________________________\n",
      " Layer (type)                Output Shape              Param #   \n",
      "=================================================================\n",
      " zero_padding2d (ZeroPadding  (None, 4, 4, 13)         0         \n",
      " 2D)                                                             \n",
      "                                                                 \n",
      " conv2d (Conv2D)             (None, 4, 4, 208)         2912      \n",
      "                                                                 \n",
      " dropout (Dropout)           (None, 4, 4, 208)         0         \n",
      "                                                                 \n",
      " conv2d_1 (Conv2D)           (None, 4, 4, 52)          10868     \n",
      "                                                                 \n",
      " conv2d_2 (Conv2D)           (None, 4, 4, 26)          1378      \n",
      "                                                                 \n",
      " flatten (Flatten)           (None, 416)               0         \n",
      "                                                                 \n",
      " dense (Dense)               (None, 13)                5421      \n",
      "                                                                 \n",
      " dropout_1 (Dropout)         (None, 13)                0         \n",
      "                                                                 \n",
      " dense_1 (Dense)             (None, 1)                 14        \n",
      "                                                                 \n",
      "=================================================================\n",
      "Total params: 20,593\n",
      "Trainable params: 20,593\n",
      "Non-trainable params: 0\n",
      "_________________________________________________________________\n"
     ]
    }
   ],
   "source": [
    "# Set to true to continue the model's training using the pre-trained neurons - THIS WILL GIVE AN ERROR IF THE WINDOW_SIZE OR NEURONS WAS CHANGED\n",
    "# Set to false to train the neural network from scratch - THIS WILL LOSE ALL PROGRESS AND CAUSE WORSE PREDICTIONS\n",
    "LOAD_TRAINED_WEIGHTS = True\n",
    "\n",
    "if LOAD_TRAINED_WEIGHTS and os.path.exists('./checkpoints/model_2048.h5'):\n",
    "    \n",
    "    # Try loading weights. Will fail if the model structure changed\n",
    "    try:\n",
    "    \n",
    "        # Load best model weights\n",
    "        model.load_weights('./checkpoints/model_2048.h5')\n",
    "\n",
    "        # Objective Function\n",
    "        model.compile(optimizer=tf.keras.optimizers.Adam(learning_rate=0.0001), \n",
    "                      loss='mean_squared_error')\n",
    "\n",
    "        # Check model\n",
    "        model.summary()\n",
    "        \n",
    "        # Variable to guide the csv log callback\n",
    "        SUCCESSFUL_WEIGHT_LOAD = True\n",
    "    \n",
    "    except:\n",
    "        SUCCESSFUL_WEIGHT_LOAD = False\n",
    "        print('Could not load weights. Most likely the network architecture changed.')\n",
    "\n",
    "else:\n",
    "    SUCCESSFUL_WEIGHT_LOAD = False"
   ]
  },
  {
   "cell_type": "code",
   "execution_count": 17,
   "id": "bCIsbRJ6oCOD",
   "metadata": {
    "colab": {
     "base_uri": "https://localhost:8080/",
     "height": 707
    },
    "id": "bCIsbRJ6oCOD",
    "outputId": "53d579fd-7353-42d1-9b82-fa0c4f83dcc9"
   },
   "outputs": [
    {
     "data": {
      "image/png": "[encoded data removed]",
      "text/plain": [
       "<Figure size 864x576 with 2 Axes>"
      ]
     },
     "metadata": {
      "needs_background": "light"
     },
     "output_type": "display_data"
    },
    {
     "name": "stdout",
     "output_type": "stream",
     "text": [
      "Loss\n",
      "\ttraining         \t (min:    0.024, max:    0.024, cur:    0.024)\n",
      "\tvalidation       \t (min:    0.025, max:    0.025, cur:    0.025)\n",
      "lr\n",
      "\tlr               \t (min:    0.000, max:    0.000, cur:    0.000)\n",
      "\b\b\b\b\b\b\b\b\b\b\b\b\b\b\b\b\b\b\b\b\b\b\b\b\b\b\b\b\b\b\b\b\b\b\b\b\b\b\b\b\b\b\b\b\b\b\b\b\b\b\b\b\b\b\b\b\b\b\b\b\b\b\b\b\b\b\b\b\b\r",
      "10328/10328 [==============================] - 69s 7ms/step - loss: 0.0244 - val_loss: 0.0246 - lr: 1.2500e-05\n",
      "Epoch 00034: early stopping\n"
     ]
    }
   ],
   "source": [
    "EPOCHS = 1000\n",
    "BATCH_SIZE = 128\n",
    "TRAIN_MODEL = True\n",
    "\n",
    "if TRAIN_MODEL:\n",
    "    \n",
    "    # Define directory for model checkpoints\n",
    "    BACKUP_DIR = './checkpoints'\n",
    "    if not os.path.exists(BACKUP_DIR):\n",
    "        os.mkdir(BACKUP_DIR)\n",
    "\n",
    "    # Define file to store checkpoint\n",
    "    BACKUP_FILE = os.path.join(BACKUP_DIR, 'model_2048.h5')\n",
    "\n",
    "    # Callbacks\n",
    "    checkpoint = ModelCheckpoint(BACKUP_FILE, \n",
    "                                 monitor='val_loss',\n",
    "                                 save_best_only=True,\n",
    "                                 save_weights_only=True,\n",
    "                                 verbose=0)\n",
    "    plateauLRreduce = ReduceLROnPlateau(factor = 0.5,\n",
    "                                        patience = 10,\n",
    "                                        monitor='val_loss',\n",
    "                                        min_lr = 0.000001,\n",
    "                                        verbose=1)\n",
    "    stopearly = EarlyStopping(monitor='val_loss',\n",
    "                              patience=25,\n",
    "                              verbose=1)\n",
    "    logCSV = CSVLogger(filename='log_model_2048.csv',\n",
    "                       separator=',', \n",
    "                       append=(LOAD_TRAINED_WEIGHTS & SUCCESSFUL_WEIGHT_LOAD))\n",
    "    \n",
    "    log_dir = \"logs/fit/\" + datetime.datetime.now().strftime(\"%Y%m%d-%H%M%S\")\n",
    "    tensorboard_callback = tf.keras.callbacks.TensorBoard(log_dir=log_dir, histogram_freq=1)\n",
    "    \n",
    "    model_callbacks = [checkpoint, plateauLRreduce, stopearly, logCSV, PlotLossesKeras()]\n",
    "\n",
    "    # Train model and save history\n",
    "    model_history = model.fit(input_data,\n",
    "                              y,\n",
    "                              epochs=EPOCHS,\n",
    "                              batch_size=BATCH_SIZE,\n",
    "                              validation_split=0.2,\n",
    "                              callbacks=model_callbacks,\n",
    "                              verbose=1,\n",
    "                              shuffle=True)"
   ]
  },
  {
   "cell_type": "markdown",
   "id": "ypr9GQyVoJIE",
   "metadata": {
    "id": "ypr9GQyVoJIE"
   },
   "source": [
    "## Play"
   ]
  },
  {
   "cell_type": "code",
   "execution_count": null,
   "id": "8B-qdliA1GjG",
   "metadata": {
    "id": "8B-qdliA1GjG"
   },
   "outputs": [],
   "source": [
    "# Load best parameters from training\n",
    "LOAD_TRAINED_WEIGHTS = True\n",
    "\n",
    "if LOAD_TRAINED_WEIGHTS and os.path.exists('./checkpoints/model_2048.h5'):\n",
    "    \n",
    "    # Try loading weights. Will fail if the model structure changed\n",
    "    try:\n",
    "    \n",
    "        # Load best model weights\n",
    "        model.load_weights('./checkpoints/model_2048.h5')\n",
    "\n",
    "        # Objective Function\n",
    "        model.compile(optimizer=tf.keras.optimizers.Adam(learning_rate=0.0001), \n",
    "                      loss='mean_squared_error')\n",
    "\n",
    "        # Check model\n",
    "        model.summary()\n",
    "        \n",
    "        # Variable to guide the csv log callback\n",
    "        SUCCESSFUL_WEIGHT_LOAD = True\n",
    "    \n",
    "    except:\n",
    "        SUCCESSFUL_WEIGHT_LOAD = False\n",
    "        print('Could not load weights. Most likely the network architecture changed.')\n",
    "\n",
    "else:\n",
    "    SUCCESSFUL_WEIGHT_LOAD = False"
   ]
  },
  {
   "cell_type": "code",
   "execution_count": 22,
   "id": "6cIPbQJl2LTo",
   "metadata": {
    "id": "6cIPbQJl2LTo"
   },
   "outputs": [],
   "source": [
    "def predict_normalized_score(board_state):\n",
    "    # Input matrix for the data\n",
    "    input_matrix = np.zeros([13,4,4], dtype=int)\n",
    "\n",
    "    # Encode the future board state into input for the NN\n",
    "    for row_idx in range(4):\n",
    "        for col_idx in range(4):\n",
    "            value = board_state[row_idx][col_idx]\n",
    "            # Find the position on the 3D matrix to add the one-hot encoding representing the value\n",
    "            if value == 0:\n",
    "                depth = 0\n",
    "            else:\n",
    "                depth = int(np.log2(value))\n",
    "            input_matrix[depth][row_idx][col_idx] = 1\n",
    "\n",
    "    # Data has to be [samples, width, height, channels]        \n",
    "    input_data = np.transpose([input_matrix], (0,2,3,1))\n",
    "\n",
    "    # Predict probability of winning given the next step {left, right, up, down}\n",
    "    win_proba = model.predict(input_data)[0][0]\n",
    "    return win_proba"
   ]
  },
  {
   "cell_type": "code",
   "execution_count": 23,
   "id": "xl6RYk1xoC6m",
   "metadata": {
    "id": "xl6RYk1xoC6m"
   },
   "outputs": [],
   "source": [
    "def neural_network_tree_search(game, num_iterations='placeholder'):\n",
    "    overall_scores = list()\n",
    "    for direction in game.board.directions:\n",
    "        simulation = copy.deepcopy(game)\n",
    "        simulation.move(direction, update_status=False)\n",
    "        predicted_score = predict_normalized_score(simulation.board.board_state)\n",
    "        overall_scores.append(predicted_score)\n",
    "    return overall_scores"
   ]
  },
  {
   "cell_type": "code",
   "execution_count": 24,
   "id": "2nEiakVeoMYz",
   "metadata": {
    "colab": {
     "base_uri": "https://localhost:8080/"
    },
    "id": "2nEiakVeoMYz",
    "outputId": "149cb469-bb5b-49a6-a4be-8292e3e647fb"
   },
   "outputs": [
    {
     "name": "stdout",
     "output_type": "stream",
     "text": [
      "25th move:\n",
      "[[ 0  0  0  4]\n",
      " [ 2  0  0  8]\n",
      " [ 0  0  2 16]\n",
      " [ 0  8 16  4]]\n",
      "50th move:\n",
      "[[ 4 16  2 16]\n",
      " [ 0  4 32  8]\n",
      " [ 2  4  8 16]\n",
      " [ 0  0  2  4]]\n",
      "75th move:\n",
      "[[ 8 16  2 16]\n",
      " [ 4 16 64  8]\n",
      " [16  8  2  0]\n",
      " [ 8  2  0  0]]\n",
      "############\n",
      "  YOU LOST \n",
      "############\n",
      "\n",
      "Final Score: 764 | Max Tile: 64\n",
      "\n",
      "[[ 2  8  2  4]\n",
      " [ 4 32 64 32]\n",
      " [ 2 16 32  8]\n",
      " [ 4  2  4  2]]\n",
      "\n",
      "Took 0.37 minutes\n"
     ]
    }
   ],
   "source": [
    "start = time.time()\n",
    "\n",
    "# Initialize a game \n",
    "game = Game()\n",
    "counter = 1 \n",
    "# Play the game with Neural Network Tree Search\n",
    "while True:\n",
    "    \n",
    "    # Predict the scores for the next possible moves\n",
    "    move_scores = neural_network_tree_search(game)\n",
    "\n",
    "    # If all scores tie, pick a random move\n",
    "    if all(score == move_scores[0] for score in move_scores):\n",
    "        next_move_idx = game.board.directions[random.randint(0, len(game.board.directions) -1)]\n",
    "    # Else pick the move with highest score on the Monte Carlo simulation\n",
    "    else:\n",
    "        next_move_idx = np.argmax(move_scores)\n",
    "\n",
    "    # Convert the move index to the actual move\n",
    "    next_move = game.board.directions[next_move_idx]\n",
    "\n",
    "    # Check if the move is valid\n",
    "    test_game = copy.deepcopy(game)\n",
    "    test_game.move(next_move, update_status=False)\n",
    "\n",
    "    # If the new board didn't change, the move is not valid, try something else\n",
    "    while np.all(test_game.board.board_state == game.board.board_state):\n",
    "        # Zero the score for the chosen move\n",
    "        move_scores[np.argmax(move_scores)] = -float('inf')\n",
    "\n",
    "        # Then pick the best move among the remaining ones\n",
    "        next_move_idx = np.argmax(move_scores)\n",
    "\n",
    "        # Convert the move index to the actual move\n",
    "        next_move = game.board.directions[next_move_idx]\n",
    "        \n",
    "        # Try making the move\n",
    "        test_game.move(next_move, update_status=False)\n",
    "\n",
    "    # The make the move\n",
    "    game.move(next_move, update_status=False)\n",
    "\n",
    "    # Check for end of game  \n",
    "\n",
    "    #if game.board.victory:\n",
    "    #    # Print game-over screen\n",
    "    #    game.board.winner_screen()\n",
    "    #    break\n",
    "\n",
    "    if game.board.defeat:\n",
    "        # Print game-over screen\n",
    "        game.board.loser_screen()\n",
    "        break\n",
    "\n",
    "    # Every 100 plays print the board\n",
    "    if counter % 25 == 0:\n",
    "        print(f\"{counter}th move:\")\n",
    "        print(game.board.board_state)\n",
    "    counter += 1\n",
    "\n",
    "end = time.time()\n",
    "print(f\"Took {(end-start)/60:.2f} minutes\")"
   ]
  },
  {
   "cell_type": "markdown",
   "id": "CKLG_AagoQ3K",
   "metadata": {
    "id": "CKLG_AagoQ3K"
   },
   "source": [
    "Matheus Schmitz<br>\n",
    "<a href=\"https://www.linkedin.com/in/matheusschmitz/\">LinkedIn</a><br>\n",
    "<a href=\"https://matheus-schmitz.github.io/\">Github Portfolio</a>"
   ]
  }
 ],
 "metadata": {
  "accelerator": "GPU",
  "colab": {
   "name": "MCTS_AI_2048.ipynb",
   "provenance": []
  },
  "kernelspec": {
   "display_name": "Python 3",
   "language": "python",
   "name": "python3"
  },
  "language_info": {
   "codemirror_mode": {
    "name": "ipython",
    "version": 3
   },
   "file_extension": ".py",
   "mimetype": "text/x-python",
   "name": "python",
   "nbconvert_exporter": "python",
   "pygments_lexer": "ipython3",
   "version": "3.7.10"
  }
 },
 "nbformat": 4,
 "nbformat_minor": 5
}
