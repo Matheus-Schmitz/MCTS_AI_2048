{
 "cells": [
  {
   "cell_type": "markdown",
   "id": "4266049b",
   "metadata": {},
   "source": [
    "# 2048 Command Line Interface"
   ]
  },
  {
   "cell_type": "markdown",
   "id": "420f7401",
   "metadata": {},
   "source": [
    "Matheus Schmitz<br>\n",
    "<a href=\"https://www.linkedin.com/in/matheusschmitz/\">LinkedIn</a><br>\n",
    "<a href=\"https://matheus-schmitz.github.io/\">Github Portfolio</a>"
   ]
  },
  {
   "cell_type": "markdown",
   "id": "24bd5a6a",
   "metadata": {},
   "source": [
    "## Imports"
   ]
  },
  {
   "cell_type": "code",
   "execution_count": 1,
   "id": "dfdb3694",
   "metadata": {},
   "outputs": [],
   "source": [
    "import random\n",
    "import copy"
   ]
  },
  {
   "cell_type": "markdown",
   "id": "026a1ba8",
   "metadata": {},
   "source": [
    "## Game"
   ]
  },
  {
   "cell_type": "code",
   "execution_count": 2,
   "id": "05505f66",
   "metadata": {},
   "outputs": [],
   "source": [
    "BOARD_SIZE = 4"
   ]
  },
  {
   "cell_type": "code",
   "execution_count": 3,
   "id": "6ba3a14d",
   "metadata": {},
   "outputs": [],
   "source": [
    "# Print the current board\n",
    "def display():\n",
    "    # Find the largest value currently on the board\n",
    "    largest = board[0][0]\n",
    "    for row in board:\n",
    "        for element in row:\n",
    "            if element > largest:\n",
    "                largest = element\n",
    "\n",
    "    # Set the number of spaces needed to the length of the lastest value\n",
    "    numSpaces = len(str(largest))\n",
    "    \n",
    "    for row in board:\n",
    "        currRow = '|'\n",
    "        for element in row:\n",
    "            if element == 0:\n",
    "                currRow += ' ' * numSpaces + '|'\n",
    "            else:\n",
    "                currRow += (' ' * (numSpaces - len(str(element)))) + str(element) + '|'\n",
    "        print(currRow)\n",
    "    print()"
   ]
  },
  {
   "cell_type": "code",
   "execution_count": 4,
   "id": "9379b380",
   "metadata": {},
   "outputs": [],
   "source": [
    "# Merge one row left\n",
    "def mergeOneRowL(row):\n",
    "    # Move evertyhing as far to the left as possible\n",
    "    for j in range(BOARD_SIZE -1):\n",
    "        for i in range(BOARD_SIZE -1, 0, -1):\n",
    "            # Test if there is an empty space, move over if so\n",
    "            if row[i - 1] == 0:\n",
    "                row[i - 1] = row[i]\n",
    "                row[i] = 0\n",
    "    \n",
    "    # Merge everything to the left\n",
    "    for i in range(BOARD_SIZE - 1):\n",
    "        # Test if the current value is identical to the one next to it\n",
    "        if row[i] == row[i + 1]:\n",
    "            row[i] *= 2\n",
    "            row[i + 1] = 0\n",
    "    \n",
    "    # Move everything to the left again\n",
    "    for i in range(BOARD_SIZE -1, 0, -1):\n",
    "        # Test if there is an empty space, move over if so\n",
    "        if row[i - 1] == 0:\n",
    "            row[i - 1] = row[i]\n",
    "            row[i] = 0\n",
    "    \n",
    "    return row"
   ]
  },
  {
   "cell_type": "code",
   "execution_count": 5,
   "id": "2657d449",
   "metadata": {},
   "outputs": [],
   "source": [
    "# Merge the whole board to the left\n",
    "def merge_left(currentBoard):\n",
    "    # Merge every row in the board left\n",
    "    for i in range(BOARD_SIZE):\n",
    "        currentBoard[i] = mergeOneRowL(currentBoard[i])\n",
    "    return currentBoard"
   ]
  },
  {
   "cell_type": "code",
   "execution_count": 6,
   "id": "fd556a60",
   "metadata": {},
   "outputs": [],
   "source": [
    "# Reverse the order of a row\n",
    "def reverse(row):\n",
    "    # Add all elements of the row to a new list, in reverse order\n",
    "    new = []\n",
    "    for i in range(BOARD_SIZE -1, -1, -1):\n",
    "        new.append(row[i])\n",
    "    return new"
   ]
  },
  {
   "cell_type": "code",
   "execution_count": 7,
   "id": "cb5da469",
   "metadata": {},
   "outputs": [],
   "source": [
    "# Merge the whole board to the right\n",
    "def merge_right(currentBoard):\n",
    "    # Look at every row in the board\n",
    "    for i in range(BOARD_SIZE):\n",
    "        # Reverse the row, merge to the left, then reverse back\n",
    "        currentBoard[i] = reverse(currentBoard[i])\n",
    "        currentBoard[i] = mergeOneRowL(currentBoard[i])\n",
    "        currentBoard[i] = reverse(currentBoard[i])"
   ]
  },
  {
   "cell_type": "code",
   "execution_count": 8,
   "id": "3fc8d7e5",
   "metadata": {},
   "outputs": [],
   "source": [
    "# Transpose the whole board\n",
    "def transpose(currentBoard):\n",
    "    for j in range(BOARD_SIZE):\n",
    "        for i in range(j, BOARD_SIZE):\n",
    "            currentBoard[i][j], currentBoard[j][i] = currentBoard[j][i], currentBoard[i][j]\n",
    "    return currentBoard"
   ]
  },
  {
   "cell_type": "code",
   "execution_count": 9,
   "id": "12f5d841",
   "metadata": {},
   "outputs": [],
   "source": [
    "# Merge the whole board up\n",
    "def merge_up(currentBoard):\n",
    "    # Transposes the whole board, merge it all left, then transposes it back\n",
    "    currentBoard = transpose(currentBoard)\n",
    "    currentBoard = merge_left(currentBoard)\n",
    "    currentBoard = transpose(currentBoard)\n",
    "    return currentBoard"
   ]
  },
  {
   "cell_type": "code",
   "execution_count": 10,
   "id": "d2eb0159",
   "metadata": {},
   "outputs": [],
   "source": [
    "# Merge the whole board down\n",
    "def merge_down(currentBoard):\n",
    "    # Transposes the whole board, merge it all right, then transposes it back\n",
    "    currentBoard = transpose(currentBoard)\n",
    "    currentBoard = merge_right(currentBoard)\n",
    "    currentBoard = transpose(currentBoard)\n",
    "    return currentBoard"
   ]
  },
  {
   "cell_type": "code",
   "execution_count": 11,
   "id": "f736ceef",
   "metadata": {},
   "outputs": [],
   "source": [
    "# Pick a new value to add to the board\n",
    "def pickNewValue():\n",
    "    if random.randint(1, 8) == 1:\n",
    "        return 4\n",
    "    else:\n",
    "        return 2"
   ]
  },
  {
   "cell_type": "code",
   "execution_count": 12,
   "id": "b8920f26",
   "metadata": {},
   "outputs": [],
   "source": [
    "# Add a value to the board in one of the empty spaces\n",
    "def addNewValue():\n",
    "    rowNum = random.randint(0, BOARD_SIZE - 1)\n",
    "    colNum = random.randint(0, BOARD_SIZE - 1)\n",
    "\n",
    "    # Pick spots until we find one that is empty\n",
    "    while not board[rowNum][colNum] == 0:\n",
    "        rowNum = random.randint(0, BOARD_SIZE - 1)\n",
    "        colNum = random.randint(0, BOARD_SIZE - 1)\n",
    "\n",
    "    # Fill the empty spot with a new value\n",
    "    board[rowNum][colNum] = pickNewValue()"
   ]
  },
  {
   "cell_type": "code",
   "execution_count": 18,
   "id": "8380f0c8",
   "metadata": {},
   "outputs": [],
   "source": [
    "# Check if the player won\n",
    "def won():\n",
    "    if any(2048 in row for row in board):\n",
    "        return Truen\n",
    "    return False"
   ]
  },
  {
   "cell_type": "code",
   "execution_count": 19,
   "id": "f2c35a3d",
   "metadata": {},
   "outputs": [],
   "source": [
    "# Check if the player lost\n",
    "def noMoves():\n",
    "    # Create two copies of the board\n",
    "    tempBoard1 = copy.deepcopy(board)\n",
    "    tempBoard2 = copy.deepcopy(board)\n",
    "    \n",
    "    hasValidMove = False\n",
    "    \n",
    "    # Test every possible move\n",
    "    tempBoard1 = merge_up(tempBoard1)\n",
    "    if tempBoard1 != tempBoard2:\n",
    "        hasValidMove = True\n",
    "        \n",
    "    tempBoard1 = merge_down(tempBoard1)\n",
    "    if tempBoard1 != tempBoard2:\n",
    "        hasValidMove = True\n",
    "        \n",
    "    tempBoard1 = merge_left(tempBoard1)\n",
    "    if tempBoard1 != tempBoard2:\n",
    "        hasValidMove = True\n",
    "        \n",
    "    tempBoard1 = merge_right(tempBoard1)\n",
    "    if tempBoard1 != tempBoard2:\n",
    "        hasValidMove = True\n",
    "        \n",
    "    return not(hasValidMove)"
   ]
  },
  {
   "cell_type": "code",
   "execution_count": 20,
   "id": "c28567f9",
   "metadata": {},
   "outputs": [],
   "source": [
    "# Create a blank board\n",
    "board = [[0] * BOARD_SIZE for _ in range(BOARD_SIZE)]"
   ]
  },
  {
   "cell_type": "code",
   "execution_count": 21,
   "id": "e2d1636f",
   "metadata": {},
   "outputs": [],
   "source": [
    "# Fill two spots with random values, to start the game\n",
    "numNeeded = 2\n",
    "while numNeeded > 0:\n",
    "    rowNum = random.randint(0, BOARD_SIZE - 1)\n",
    "    colNum = random.randint(0, BOARD_SIZE - 1)\n",
    "    \n",
    "    if board[rowNum][colNum] == 0:\n",
    "        board[rowNum][colNum] = pickNewValue()\n",
    "        numNeeded -= 1"
   ]
  },
  {
   "cell_type": "code",
   "execution_count": 22,
   "id": "dd87cc43",
   "metadata": {},
   "outputs": [
    {
     "name": "stdout",
     "output_type": "stream",
     "text": [
      "Welcome to 2048! Your goal is to combine values to get the number 2048, by mergerd the board in different directions. Everytime, you will need to type 'd' to merge right, 'w' to merge up, 'a' to merge left, and 's' to merge down.\n",
      "| | | | |\n",
      "|2| | | |\n",
      "| |2| | |\n",
      "| | | | |\n",
      "\n",
      "Which way do you want to merge?\n",
      "Your input was not valid, please try again\n",
      "Which way do you want to merge?w\n",
      "|2|2| | |\n",
      "| | | | |\n",
      "| | | | |\n",
      "| | | |2|\n",
      "\n",
      "Sorry, you have no more possible moves, you lose!\n"
     ]
    }
   ],
   "source": [
    "print(\"Welcome to 2048! Your goal is to combine values to get the number 2048, by mergerd the board in different directions. Everytime, you will need to type 'd' to merge right, 'w' to merge up, 'a' to merge left, and 's' to merge down.\")\n",
    "\n",
    "display()\n",
    "\n",
    "gameOver = False\n",
    "\n",
    "# Repeat asking the user for new moves while the game isn't over\n",
    "while not gameOver:\n",
    "    move = input(\"Which way do you want to merge?\")\n",
    "    \n",
    "    # Assume they entered a valid input\n",
    "    validInput = True\n",
    "    \n",
    "    # Create a copy of the board\n",
    "    tempBoard = copy.deepcopy(board)\n",
    "    \n",
    "    # Figure out which way the person wants to merge and use the correct function\n",
    "    if move == 'w':\n",
    "        board = merge_up(board)\n",
    "    elif move == 'a':\n",
    "        board = merge_left(board)\n",
    "    elif move == 's':\n",
    "        board = merge_down(board)\n",
    "    elif move == 'd':\n",
    "        board = merge_right(board)\n",
    "    else:\n",
    "        validInput = False\n",
    "    \n",
    "    # If the input was not valid, request the user to enter a valid input\n",
    "    if not validInput:\n",
    "        print(\"Your input was not valid, please try again\")\n",
    "    # Otherwise the input was valid\n",
    "    else:\n",
    "        # Test if the user has won\n",
    "        if won():\n",
    "            display()\n",
    "            print(\"You Won!\")\n",
    "            gameOver = True\n",
    "        else:\n",
    "            # Test if their move was unsuccessful\n",
    "            if board == tempBoard:\n",
    "                print(\"Try a different direction\")\n",
    "            else:\n",
    "                addNewValue()\n",
    "                display()\n",
    "                if noMoves:\n",
    "                    print(\"Sorry, you have no more possible moves, you lose!\")\n",
    "                    gameOver = True"
   ]
  },
  {
   "cell_type": "code",
   "execution_count": null,
   "id": "0f67b2c1",
   "metadata": {},
   "outputs": [],
   "source": []
  },
  {
   "cell_type": "code",
   "execution_count": null,
   "id": "31dd9d43",
   "metadata": {},
   "outputs": [],
   "source": []
  }
 ],
 "metadata": {
  "kernelspec": {
   "display_name": "Python 3",
   "language": "python",
   "name": "python3"
  },
  "language_info": {
   "codemirror_mode": {
    "name": "ipython",
    "version": 3
   },
   "file_extension": ".py",
   "mimetype": "text/x-python",
   "name": "python",
   "nbconvert_exporter": "python",
   "pygments_lexer": "ipython3",
   "version": "3.7.10"
  }
 },
 "nbformat": 4,
 "nbformat_minor": 5
}
