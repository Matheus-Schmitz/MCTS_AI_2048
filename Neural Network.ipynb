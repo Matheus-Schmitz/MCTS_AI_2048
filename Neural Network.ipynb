{
 "cells": [
  {
   "cell_type": "code",
   "execution_count": 1,
   "id": "7d21b161",
   "metadata": {},
   "outputs": [
    {
     "name": "stderr",
     "output_type": "stream",
     "text": [
      "C:\\Users\\Matheus\\Anaconda3\\lib\\site-packages\\numpy\\_distributor_init.py:32: UserWarning: loaded more than 1 DLL from .libs:\n",
      "C:\\Users\\Matheus\\Anaconda3\\lib\\site-packages\\numpy\\.libs\\libopenblas.WCDJNK7YVMPZQ2ME2ZZHJJRJ3JIKNDB7.gfortran-win_amd64.dll\n",
      "C:\\Users\\Matheus\\Anaconda3\\lib\\site-packages\\numpy\\.libs\\libopenblas.XWYDX2IKJW2NMTWSFYNGFUWKQU3LYTCZ.gfortran-win_amd64.dll\n",
      "  stacklevel=1)\n"
     ]
    }
   ],
   "source": [
    "import numpy as np\n",
    "import pandas as pd\n",
    "from glob import glob\n",
    "from random import shuffle\n",
    "from tqdm import tqdm\n",
    "import swifter"
   ]
  },
  {
   "cell_type": "code",
   "execution_count": 2,
   "id": "edd92759",
   "metadata": {},
   "outputs": [],
   "source": [
    "df = pd.read_csv('simulated_games/simulated_games_0/game_999.csv')"
   ]
  },
  {
   "cell_type": "code",
   "execution_count": 3,
   "id": "8afecb15",
   "metadata": {},
   "outputs": [
    {
     "data": {
      "text/html": [
       "<div>\n",
       "<style scoped>\n",
       "    .dataframe tbody tr th:only-of-type {\n",
       "        vertical-align: middle;\n",
       "    }\n",
       "\n",
       "    .dataframe tbody tr th {\n",
       "        vertical-align: top;\n",
       "    }\n",
       "\n",
       "    .dataframe thead th {\n",
       "        text-align: right;\n",
       "    }\n",
       "</style>\n",
       "<table border=\"1\" class=\"dataframe\">\n",
       "  <thead>\n",
       "    <tr style=\"text-align: right;\">\n",
       "      <th></th>\n",
       "      <th>0</th>\n",
       "      <th>1</th>\n",
       "      <th>2</th>\n",
       "      <th>3</th>\n",
       "      <th>4</th>\n",
       "      <th>5</th>\n",
       "      <th>6</th>\n",
       "      <th>7</th>\n",
       "      <th>8</th>\n",
       "      <th>9</th>\n",
       "      <th>10</th>\n",
       "      <th>11</th>\n",
       "      <th>12</th>\n",
       "      <th>13</th>\n",
       "      <th>14</th>\n",
       "      <th>15</th>\n",
       "      <th>16</th>\n",
       "    </tr>\n",
       "  </thead>\n",
       "  <tbody>\n",
       "    <tr>\n",
       "      <th>0</th>\n",
       "      <td>0</td>\n",
       "      <td>0</td>\n",
       "      <td>0</td>\n",
       "      <td>0</td>\n",
       "      <td>0</td>\n",
       "      <td>0</td>\n",
       "      <td>0</td>\n",
       "      <td>0</td>\n",
       "      <td>0</td>\n",
       "      <td>0</td>\n",
       "      <td>0</td>\n",
       "      <td>2</td>\n",
       "      <td>0</td>\n",
       "      <td>2</td>\n",
       "      <td>0</td>\n",
       "      <td>2</td>\n",
       "      <td>0</td>\n",
       "    </tr>\n",
       "    <tr>\n",
       "      <th>1</th>\n",
       "      <td>0</td>\n",
       "      <td>0</td>\n",
       "      <td>0</td>\n",
       "      <td>0</td>\n",
       "      <td>0</td>\n",
       "      <td>0</td>\n",
       "      <td>0</td>\n",
       "      <td>0</td>\n",
       "      <td>2</td>\n",
       "      <td>0</td>\n",
       "      <td>0</td>\n",
       "      <td>2</td>\n",
       "      <td>0</td>\n",
       "      <td>0</td>\n",
       "      <td>0</td>\n",
       "      <td>4</td>\n",
       "      <td>4</td>\n",
       "    </tr>\n",
       "    <tr>\n",
       "      <th>2</th>\n",
       "      <td>2</td>\n",
       "      <td>0</td>\n",
       "      <td>0</td>\n",
       "      <td>2</td>\n",
       "      <td>0</td>\n",
       "      <td>0</td>\n",
       "      <td>0</td>\n",
       "      <td>4</td>\n",
       "      <td>0</td>\n",
       "      <td>0</td>\n",
       "      <td>0</td>\n",
       "      <td>2</td>\n",
       "      <td>0</td>\n",
       "      <td>0</td>\n",
       "      <td>0</td>\n",
       "      <td>0</td>\n",
       "      <td>4</td>\n",
       "    </tr>\n",
       "    <tr>\n",
       "      <th>3</th>\n",
       "      <td>4</td>\n",
       "      <td>0</td>\n",
       "      <td>0</td>\n",
       "      <td>0</td>\n",
       "      <td>4</td>\n",
       "      <td>0</td>\n",
       "      <td>0</td>\n",
       "      <td>2</td>\n",
       "      <td>2</td>\n",
       "      <td>0</td>\n",
       "      <td>0</td>\n",
       "      <td>0</td>\n",
       "      <td>0</td>\n",
       "      <td>0</td>\n",
       "      <td>0</td>\n",
       "      <td>0</td>\n",
       "      <td>8</td>\n",
       "    </tr>\n",
       "    <tr>\n",
       "      <th>4</th>\n",
       "      <td>0</td>\n",
       "      <td>0</td>\n",
       "      <td>0</td>\n",
       "      <td>0</td>\n",
       "      <td>0</td>\n",
       "      <td>0</td>\n",
       "      <td>0</td>\n",
       "      <td>0</td>\n",
       "      <td>8</td>\n",
       "      <td>0</td>\n",
       "      <td>0</td>\n",
       "      <td>0</td>\n",
       "      <td>2</td>\n",
       "      <td>2</td>\n",
       "      <td>0</td>\n",
       "      <td>2</td>\n",
       "      <td>16</td>\n",
       "    </tr>\n",
       "    <tr>\n",
       "      <th>...</th>\n",
       "      <td>...</td>\n",
       "      <td>...</td>\n",
       "      <td>...</td>\n",
       "      <td>...</td>\n",
       "      <td>...</td>\n",
       "      <td>...</td>\n",
       "      <td>...</td>\n",
       "      <td>...</td>\n",
       "      <td>...</td>\n",
       "      <td>...</td>\n",
       "      <td>...</td>\n",
       "      <td>...</td>\n",
       "      <td>...</td>\n",
       "      <td>...</td>\n",
       "      <td>...</td>\n",
       "      <td>...</td>\n",
       "      <td>...</td>\n",
       "    </tr>\n",
       "    <tr>\n",
       "      <th>1359</th>\n",
       "      <td>0</td>\n",
       "      <td>4</td>\n",
       "      <td>16</td>\n",
       "      <td>2</td>\n",
       "      <td>2</td>\n",
       "      <td>32</td>\n",
       "      <td>2048</td>\n",
       "      <td>16</td>\n",
       "      <td>2</td>\n",
       "      <td>128</td>\n",
       "      <td>64</td>\n",
       "      <td>256</td>\n",
       "      <td>2</td>\n",
       "      <td>8</td>\n",
       "      <td>2</td>\n",
       "      <td>16</td>\n",
       "      <td>23188</td>\n",
       "    </tr>\n",
       "    <tr>\n",
       "      <th>1360</th>\n",
       "      <td>4</td>\n",
       "      <td>4</td>\n",
       "      <td>16</td>\n",
       "      <td>2</td>\n",
       "      <td>2</td>\n",
       "      <td>32</td>\n",
       "      <td>2048</td>\n",
       "      <td>16</td>\n",
       "      <td>0</td>\n",
       "      <td>128</td>\n",
       "      <td>64</td>\n",
       "      <td>256</td>\n",
       "      <td>4</td>\n",
       "      <td>8</td>\n",
       "      <td>2</td>\n",
       "      <td>16</td>\n",
       "      <td>23192</td>\n",
       "    </tr>\n",
       "    <tr>\n",
       "      <th>1361</th>\n",
       "      <td>4</td>\n",
       "      <td>8</td>\n",
       "      <td>16</td>\n",
       "      <td>2</td>\n",
       "      <td>2</td>\n",
       "      <td>32</td>\n",
       "      <td>2048</td>\n",
       "      <td>16</td>\n",
       "      <td>0</td>\n",
       "      <td>128</td>\n",
       "      <td>64</td>\n",
       "      <td>256</td>\n",
       "      <td>4</td>\n",
       "      <td>8</td>\n",
       "      <td>2</td>\n",
       "      <td>16</td>\n",
       "      <td>23200</td>\n",
       "    </tr>\n",
       "    <tr>\n",
       "      <th>1362</th>\n",
       "      <td>4</td>\n",
       "      <td>8</td>\n",
       "      <td>16</td>\n",
       "      <td>2</td>\n",
       "      <td>2</td>\n",
       "      <td>32</td>\n",
       "      <td>2048</td>\n",
       "      <td>16</td>\n",
       "      <td>0</td>\n",
       "      <td>128</td>\n",
       "      <td>64</td>\n",
       "      <td>256</td>\n",
       "      <td>4</td>\n",
       "      <td>8</td>\n",
       "      <td>2</td>\n",
       "      <td>16</td>\n",
       "      <td>23200</td>\n",
       "    </tr>\n",
       "    <tr>\n",
       "      <th>1363</th>\n",
       "      <td>2</td>\n",
       "      <td>8</td>\n",
       "      <td>16</td>\n",
       "      <td>2</td>\n",
       "      <td>4</td>\n",
       "      <td>32</td>\n",
       "      <td>2048</td>\n",
       "      <td>16</td>\n",
       "      <td>2</td>\n",
       "      <td>128</td>\n",
       "      <td>64</td>\n",
       "      <td>256</td>\n",
       "      <td>4</td>\n",
       "      <td>8</td>\n",
       "      <td>2</td>\n",
       "      <td>16</td>\n",
       "      <td>23200</td>\n",
       "    </tr>\n",
       "  </tbody>\n",
       "</table>\n",
       "<p>1364 rows × 17 columns</p>\n",
       "</div>"
      ],
      "text/plain": [
       "      0  1   2  3  4   5     6   7  8    9  10   11  12  13  14  15     16\n",
       "0     0  0   0  0  0   0     0   0  0    0   0    2   0   2   0   2      0\n",
       "1     0  0   0  0  0   0     0   0  2    0   0    2   0   0   0   4      4\n",
       "2     2  0   0  2  0   0     0   4  0    0   0    2   0   0   0   0      4\n",
       "3     4  0   0  0  4   0     0   2  2    0   0    0   0   0   0   0      8\n",
       "4     0  0   0  0  0   0     0   0  8    0   0    0   2   2   0   2     16\n",
       "...  .. ..  .. .. ..  ..   ...  .. ..  ...  ..  ...  ..  ..  ..  ..    ...\n",
       "1359  0  4  16  2  2  32  2048  16  2  128  64  256   2   8   2  16  23188\n",
       "1360  4  4  16  2  2  32  2048  16  0  128  64  256   4   8   2  16  23192\n",
       "1361  4  8  16  2  2  32  2048  16  0  128  64  256   4   8   2  16  23200\n",
       "1362  4  8  16  2  2  32  2048  16  0  128  64  256   4   8   2  16  23200\n",
       "1363  2  8  16  2  4  32  2048  16  2  128  64  256   4   8   2  16  23200\n",
       "\n",
       "[1364 rows x 17 columns]"
      ]
     },
     "execution_count": 3,
     "metadata": {},
     "output_type": "execute_result"
    }
   ],
   "source": [
    "df"
   ]
  },
  {
   "cell_type": "code",
   "execution_count": 4,
   "id": "e8664773",
   "metadata": {},
   "outputs": [],
   "source": [
    "def get_board_state(df_row):\n",
    "    row1 = df_row[0:4]\n",
    "    row2 = df_row[4:8]\n",
    "    row3 = df_row[8:12]\n",
    "    row4 = df_row[12:16]\n",
    "    board = np.array([row1, row2, row3, row4], dtype=object)\n",
    "    return board"
   ]
  },
  {
   "cell_type": "code",
   "execution_count": 5,
   "id": "b2abfd98",
   "metadata": {},
   "outputs": [],
   "source": [
    "boards = df.apply(get_board_state, axis=1)\n",
    "labels = df['16']"
   ]
  },
  {
   "cell_type": "code",
   "execution_count": 6,
   "id": "a295958a",
   "metadata": {},
   "outputs": [],
   "source": [
    "filepaths = glob('simulated_games/simulated_games_0/*.csv')"
   ]
  },
  {
   "cell_type": "code",
   "execution_count": 10,
   "id": "740f65c9",
   "metadata": {},
   "outputs": [],
   "source": [
    "# Generator based dataloader\n",
    "def dataloader(filepaths, batch_size=8):\n",
    "    X, y = [], []\n",
    "    \n",
    "    while True:\n",
    "        \n",
    "        # Shuffle the file order before each iteration\n",
    "        random.shuffle(filepaths)\n",
    "        \n",
    "        for filepath in filepaths:\n",
    "            pass"
   ]
  },
  {
   "cell_type": "code",
   "execution_count": 8,
   "id": "1a98c031",
   "metadata": {},
   "outputs": [
    {
     "name": "stderr",
     "output_type": "stream",
     "text": [
      "100%|██████████████████████████████████████████████████████████████████████████████| 1198/1198 [01:38<00:00, 12.13it/s]\n"
     ]
    }
   ],
   "source": [
    "df = pd.DataFrame()\n",
    "for filepath in tqdm(filepaths):\n",
    "    tmp = pd.read_csv(filepath)\n",
    "    df = pd.concat([df, tmp], ignore_index=True)\n",
    "df.shape"
   ]
  },
  {
   "cell_type": "code",
   "execution_count": 9,
   "id": "3d837d66",
   "metadata": {},
   "outputs": [
    {
     "data": {
      "application/vnd.jupyter.widget-view+json": {
       "model_id": "c2e5f6332b2d48739d67d934a854c6bf",
       "version_major": 2,
       "version_minor": 0
      },
      "text/plain": [
       "Dask Apply:   0%|          | 0/16 [00:00<?, ?it/s]"
      ]
     },
     "metadata": {},
     "output_type": "display_data"
    },
    {
     "name": "stdout",
     "output_type": "stream",
     "text": [
      "Wall time: 3min 40s\n"
     ]
    }
   ],
   "source": [
    "%%time\n",
    "boards = df.swifter.progress_bar(False).apply(get_board_state, axis=1)\n",
    "labels = df['16']"
   ]
  },
  {
   "cell_type": "code",
   "execution_count": 62,
   "id": "362e9ecd",
   "metadata": {},
   "outputs": [],
   "source": [
    "# Check the max score over all positions over all games to know the max depth needed for the NN\n",
    "max_depth = int(np.log2(df.drop('16', axis=1).max().max())) + 1"
   ]
  },
  {
   "cell_type": "code",
   "execution_count": 68,
   "id": "0fdb02e1",
   "metadata": {},
   "outputs": [],
   "source": [
    "def encode_board(board):\n",
    "    encoding = np.zeros((max_depth,4,4), dtype=int)\n",
    "    \n",
    "    for row, row_values in enumerate(board):\n",
    "        for col, value in enumerate(row_values):\n",
    "            if value == 0:\n",
    "                depth = 0\n",
    "            else:\n",
    "                depth = int(np.log2(value))\n",
    "            \n",
    "            encoding[depth][row][col] = 1\n",
    "            \n",
    "    return encoding"
   ]
  },
  {
   "cell_type": "code",
   "execution_count": 78,
   "id": "e4260527",
   "metadata": {},
   "outputs": [
    {
     "name": "stdout",
     "output_type": "stream",
     "text": [
      "Wall time: 1min 14s\n"
     ]
    }
   ],
   "source": [
    "%%time\n",
    "encodings = boards.swifter.progress_bar(False).apply(encode_board, axis=1)"
   ]
  },
  {
   "cell_type": "code",
   "execution_count": 79,
   "id": "54464d7b",
   "metadata": {},
   "outputs": [
    {
     "data": {
      "text/plain": [
       "0          [[[0, 0, 1, 1], [1, 1, 1, 1], [1, 1, 0, 1], [1...\n",
       "1          [[[0, 1, 1, 0], [1, 1, 1, 1], [0, 1, 1, 1], [1...\n",
       "2          [[[0, 1, 1, 0], [1, 1, 1, 1], [1, 1, 1, 1], [0...\n",
       "3          [[[0, 1, 1, 0], [0, 0, 1, 1], [1, 1, 1, 1], [1...\n",
       "4          [[[1, 1, 0, 0], [1, 1, 0, 0], [1, 0, 1, 1], [1...\n",
       "                                 ...                        \n",
       "1652409    [[[1, 0, 0, 0], [0, 0, 0, 0], [0, 0, 0, 0], [0...\n",
       "1652410    [[[0, 0, 0, 0], [0, 0, 0, 0], [1, 0, 0, 0], [0...\n",
       "1652411    [[[0, 0, 0, 0], [0, 0, 0, 0], [1, 0, 0, 0], [0...\n",
       "1652412    [[[0, 0, 0, 0], [0, 0, 0, 0], [1, 0, 0, 0], [0...\n",
       "1652413    [[[0, 0, 0, 0], [0, 0, 0, 0], [0, 0, 0, 0], [0...\n",
       "Length: 1652414, dtype: object"
      ]
     },
     "execution_count": 79,
     "metadata": {},
     "output_type": "execute_result"
    }
   ],
   "source": [
    "encodings"
   ]
  },
  {
   "cell_type": "code",
   "execution_count": 80,
   "id": "ecbaa6db",
   "metadata": {},
   "outputs": [
    {
     "data": {
      "text/plain": [
       "0          [[2, 2, 0, 0], [0, 0, 0, 0], [0, 0, 4, 0], [0,...\n",
       "1          [[4, 0, 0, 2], [0, 0, 0, 0], [4, 0, 0, 0], [0,...\n",
       "2          [[8, 0, 0, 2], [0, 0, 0, 0], [0, 0, 0, 0], [2,...\n",
       "3          [[8, 0, 0, 2], [2, 4, 0, 0], [0, 0, 0, 0], [0,...\n",
       "4          [[0, 0, 8, 2], [0, 0, 2, 4], [0, 2, 0, 0], [0,...\n",
       "                                 ...                        \n",
       "1652409    [[0, 4, 16, 2], [2, 32, 2048, 16], [2, 128, 64...\n",
       "1652410    [[4, 4, 16, 2], [2, 32, 2048, 16], [0, 128, 64...\n",
       "1652411    [[4, 8, 16, 2], [2, 32, 2048, 16], [0, 128, 64...\n",
       "1652412    [[4, 8, 16, 2], [2, 32, 2048, 16], [0, 128, 64...\n",
       "1652413    [[2, 8, 16, 2], [4, 32, 2048, 16], [2, 128, 64...\n",
       "Length: 1652414, dtype: object"
      ]
     },
     "execution_count": 80,
     "metadata": {},
     "output_type": "execute_result"
    }
   ],
   "source": [
    "boards"
   ]
  },
  {
   "cell_type": "code",
   "execution_count": null,
   "id": "78c8701c",
   "metadata": {},
   "outputs": [],
   "source": []
  },
  {
   "cell_type": "code",
   "execution_count": null,
   "id": "bb14f345",
   "metadata": {},
   "outputs": [],
   "source": []
  },
  {
   "cell_type": "code",
   "execution_count": null,
   "id": "45b27385",
   "metadata": {},
   "outputs": [],
   "source": []
  },
  {
   "cell_type": "code",
   "execution_count": null,
   "id": "a75af7a0",
   "metadata": {},
   "outputs": [],
   "source": []
  }
 ],
 "metadata": {
  "kernelspec": {
   "display_name": "Python 3",
   "language": "python",
   "name": "python3"
  },
  "language_info": {
   "codemirror_mode": {
    "name": "ipython",
    "version": 3
   },
   "file_extension": ".py",
   "mimetype": "text/x-python",
   "name": "python",
   "nbconvert_exporter": "python",
   "pygments_lexer": "ipython3",
   "version": "3.7.10"
  }
 },
 "nbformat": 4,
 "nbformat_minor": 5
}
