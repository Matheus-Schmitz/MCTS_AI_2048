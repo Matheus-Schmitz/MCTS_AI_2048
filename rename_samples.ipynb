{
 "cells": [
  {
   "cell_type": "code",
   "execution_count": 15,
   "id": "2d1ba8e9",
   "metadata": {},
   "outputs": [],
   "source": [
    "import os\n",
    "path = 'C:\\Portfolio\\MCTS_AI_2048\\simulated_games\\simulated_games_3'\n",
    "files = os.listdir(path)\n",
    "\n",
    "game_idx = 981\n",
    "\n",
    "for file in files:\n",
    "    os.rename(os.path.join(path, file), os.path.join(path, 'game_' + str(game_idx) + '.csv'))\n",
    "    game_idx += 1"
   ]
  },
  {
   "cell_type": "code",
   "execution_count": null,
   "id": "17ca5653",
   "metadata": {},
   "outputs": [],
   "source": []
  }
 ],
 "metadata": {
  "kernelspec": {
   "display_name": "Python 3",
   "language": "python",
   "name": "python3"
  },
  "language_info": {
   "codemirror_mode": {
    "name": "ipython",
    "version": 3
   },
   "file_extension": ".py",
   "mimetype": "text/x-python",
   "name": "python",
   "nbconvert_exporter": "python",
   "pygments_lexer": "ipython3",
   "version": "3.7.10"
  }
 },
 "nbformat": 4,
 "nbformat_minor": 5
}
